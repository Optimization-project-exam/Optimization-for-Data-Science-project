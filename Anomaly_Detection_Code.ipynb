{
  "nbformat": 4,
  "nbformat_minor": 0,
  "metadata": {
    "colab": {
      "provenance": [],
      "collapsed_sections": []
    },
    "kernelspec": {
      "name": "python3",
      "display_name": "Python 3"
    },
    "language_info": {
      "name": "python"
    },
    "gpuClass": "standard"
  },
  "cells": [
    {
      "cell_type": "markdown",
      "source": [
        "# Minimum Enclosing Ball for Anomaly Detection \n",
        "\n",
        "Francesco Sartori, Matteo Pernini, Irene Caria, Marco Furlan"
      ],
      "metadata": {
        "id": "9idmzgecB3k1"
      }
    },
    {
      "cell_type": "markdown",
      "source": [
        "##Libraries"
      ],
      "metadata": {
        "id": "W4_g8cHMtRU0"
      }
    },
    {
      "cell_type": "code",
      "source": [
        "import numpy as np\n",
        "from sklearn.preprocessing import MinMaxScaler\n",
        "import time\n",
        "from matplotlib import pyplot as plt"
      ],
      "metadata": {
        "id": "Ndh2kBjckTHd"
      },
      "execution_count": null,
      "outputs": []
    },
    {
      "cell_type": "markdown",
      "source": [
        "#Away-step Frank Wolfe Algorithm"
      ],
      "metadata": {
        "id": "m8-95M0Fqpvy"
      }
    },
    {
      "cell_type": "code",
      "source": [
        "def AFW_plot(x_0,A,eps,max_it):\n",
        "  '''Away-steps Frank-Wolfe. Output includes lists for plotting purposes.\n",
        "  x_0 is a vector in A.\n",
        "  A is a matrix whose rows are the coordinates of the edges of the polytope.\n",
        "  eps is the threshold.\n",
        "  max_it is the maximum number of iterations.\n",
        "  '''\n",
        "\n",
        "  plot_iterations = [] # plot\n",
        "  plot_gap = [] # plot\n",
        "\n",
        "  def find_row(v, A):\n",
        "    '''return index of vector v as row of A'''\n",
        "    for i in range(A.shape[0]):\n",
        "      row = A[i]\n",
        "      if np.array_equal(v, row):\n",
        "        return i\n",
        "    raise ValueError('v not found in A!')\n",
        "\n",
        "  # check if x_0 is in A\n",
        "  i = find_row(x_0, A)\n",
        "\n",
        "  S = np.array([x_0])\n",
        "  x = x_0\n",
        "  alpha = np.zeros(A.shape[0])\n",
        "  alpha[i] = 1\n",
        "\n",
        "  for t in range(max_it):\n",
        "    plot_iterations.append(t) # plot\n",
        "    s = A[np.argmin(grad_f(x) @ A.T)]\n",
        "    d_FW = s-x # FW direction\n",
        "    v = S[np.argmax(grad_f(x) @ S.T)]\n",
        "    d_A = x-v # away direction\n",
        "  \n",
        "    g_FW = -grad_f(x) @ d_FW\n",
        "    plot_gap.append(g_FW) # plot\n",
        "    \n",
        "    if g_FW <= eps: # if FW gap small enough, return\n",
        "      break\n",
        "    if g_FW >= -grad_f(x) @ d_A: # choose FW direction\n",
        "      step = 'FW'\n",
        "      d = d_FW\n",
        "      gamma_max = 1\n",
        "    else: # choose away direction\n",
        "      step = 'A'\n",
        "      d = d_A\n",
        "      i = find_row(v,A)\n",
        "      gamma_max = alpha[i]/(1-alpha[i])\n",
        "    \n",
        "    #line search\n",
        "    gamma_int = np.linspace(0, gamma_max, num=1000)\n",
        "    gamma = gamma_int[np.argmin([f(x+gam*d) for gam in gamma_int])]\n",
        "\n",
        "    #update x, S, alpha\n",
        "    x = x + gamma*d    \n",
        "    if step == 'FW':\n",
        "      if gamma == 1:\n",
        "        S = np.array([s])\n",
        "      else:\n",
        "        S = np.vstack([S,s])\n",
        "      i = find_row(s,A)\n",
        "      alpha = (1-gamma)*alpha\n",
        "      alpha[i] = alpha[i] + gamma\n",
        "    if step == 'A':\n",
        "      i = find_row(v,S)\n",
        "      if gamma == gamma_max:\n",
        "        S = np.delete(S,i, axis = 0)\n",
        "      alpha = (1+gamma)*alpha\n",
        "      alpha[i] = alpha[i] - gamma\n",
        "\n",
        "  return x, plot_iterations, plot_gap"
      ],
      "metadata": {
        "id": "Yhwx6z61r1ku"
      },
      "execution_count": null,
      "outputs": []
    },
    {
      "cell_type": "markdown",
      "source": [
        "#Pairwise Frank Wolfe Algorithm"
      ],
      "metadata": {
        "id": "A--nLK2Tqyf0"
      }
    },
    {
      "cell_type": "code",
      "source": [
        "def PFW_plot(x_0,A,eps,max_it):\n",
        "  '''Pairwise Frank-Wolfe. Output includes lists for plotting purposes.\n",
        "  x_0 is a vector in A.\n",
        "  A is a matrix whose rows are the coordinates of the edges of the polytope.\n",
        "  eps is the threshold.\n",
        "  max_it is the maximum number of iterations.\n",
        "  '''\n",
        "\n",
        "  plot_iterations = [] # plot\n",
        "  plot_gap = [] # plot\n",
        "\n",
        "  def find_row(v, A):\n",
        "    '''return index of vector v as row of A'''\n",
        "    for i in range(A.shape[0]):\n",
        "      row = A[i]\n",
        "      if np.array_equal(v, row):\n",
        "        return i\n",
        "    raise ValueError('v not found in A!')\n",
        "\n",
        "  # check if x_0 is in A\n",
        "  i = find_row(x_0, A)\n",
        "\n",
        "  S = np.array([x_0])\n",
        "  x = x_0\n",
        "  alpha = np.zeros(A.shape[0])\n",
        "  alpha[i] = 1\n",
        "\n",
        "  for t in range(max_it):\n",
        "    plot_iterations.append(t) # plot\n",
        "    s = A[np.argmin(grad_f(x) @ A.T)]\n",
        "    d_FW = s-x # FW direction\n",
        "    v = S[np.argmax(grad_f(x) @ S.T)]\n",
        "    d_A = x-v # away direction\n",
        "  \n",
        "    g_FW = -grad_f(x) @ d_FW\n",
        "    plot_gap.append(g_FW) # plot\n",
        "    \n",
        "    if g_FW <= eps: # if FW gap small enough, return\n",
        "      break\n",
        "    \n",
        "    d = s-v\n",
        "    i = find_row(v,A)\n",
        "    gamma_max = alpha[i]\n",
        "    \n",
        "    #line search\n",
        "    gamma_int = np.linspace(0, gamma_max, num=1000)\n",
        "    gamma = gamma_int[np.argmin([f(x+gam*d) for gam in gamma_int])]\n",
        "\n",
        "    #update x, S, alpha\n",
        "    x = x + gamma*d\n",
        "\n",
        "    alpha[i] = alpha[i] - gamma # recall i = find_row(v,A)\n",
        "    j = find_row(s,A)\n",
        "    alpha[j] = alpha[j] + gamma\n",
        "\n",
        "    if alpha[i] == 0:\n",
        "      i = find_row(v,S)\n",
        "      S = np.delete(S,i, axis = 0)\n",
        "    if alpha[j] > 0:\n",
        "      S = np.vstack([S,s])\n",
        "    \n",
        "  return x, plot_iterations, plot_gap"
      ],
      "metadata": {
        "id": "EZyhjRyMtGmV"
      },
      "execution_count": null,
      "outputs": []
    },
    {
      "cell_type": "markdown",
      "source": [
        "#Test for the two FW variants"
      ],
      "metadata": {
        "id": "sdNJv1YEq5qr"
      }
    },
    {
      "cell_type": "code",
      "source": [
        "np.random.seed(54)\n",
        "A = np.random.rand(200,500)\n",
        "x_star = np.concatenate([np.ones(25),-np.ones(25),np.zeros(450)])\n",
        "x_star = x_star + np.random.rand(500)*0.1\n",
        "b = A @ x_star\n",
        "\n",
        "def f(x):\n",
        "  return np.linalg.norm(A @ x - b)**2\n",
        "\n",
        "def grad_f(x):\n",
        "  return 2 * A.T @ (A @ x - b)\n",
        "\n",
        "n = 500\n",
        "positive_vertices = np.array([[int(i==j)*20 for i in range(n)] for j in range(n)])\n",
        "negative_vertices = np.array([[-int(i==j)*20 for i in range(n)] for j in range(n)])\n",
        "A_cal = np.concatenate([positive_vertices,negative_vertices])\n",
        "\n",
        "x, plot_iterations_AFW, plot_gap_AFW = PFW_plot(A_cal[0,:],A_cal,0.01,200)\n",
        "x, plot_iterations_PFW, plot_gap_PFW = AFW_plot(A_cal[0,:],A_cal,0.01,200)\n",
        "\n",
        "fig = plt.figure()\n",
        "ax = fig.add_subplot(2, 1, 1)\n",
        "line, = ax.plot(plot_iterations_PFW, plot_gap_PFW)\n",
        "line, = ax.plot(plot_iterations_AFW, plot_gap_AFW)\n",
        "ax.set_yscale('log')\n",
        "plt.title('gap')\n",
        "plt.legend(['AFW','PFW'])\n",
        "plt.show()"
      ],
      "metadata": {
        "colab": {
          "base_uri": "https://localhost:8080/",
          "height": 163
        },
        "id": "raUjM3RRtgAt",
        "outputId": "04b8bb09-f2a0-47b4-ff47-f73da5c07be2"
      },
      "execution_count": null,
      "outputs": [
        {
          "output_type": "display_data",
          "data": {
            "text/plain": [
              "<Figure size 432x288 with 1 Axes>"
            ],
            "image/png": "[encoded data removed]"
          },
          "metadata": {
            "needs_background": "light"
          }
        }
      ]
    },
    {
      "cell_type": "markdown",
      "source": [
        "#First (1 + ϵ)-approximation to MEB algorithm"
      ],
      "metadata": {
        "id": "a6i6f_0krC34"
      }
    },
    {
      "cell_type": "code",
      "source": [
        "def phi(u, A):\n",
        "  A_n=[np.dot(a,a) for a in A]\n",
        "  W=sum([u[i]*A[i] for i in range(len(u))])\n",
        "  return np.dot(A_n, u) - np.dot(W,W)"
      ],
      "metadata": {
        "id": "igD4fhpBuO8I"
      },
      "execution_count": null,
      "outputs": []
    },
    {
      "cell_type": "code",
      "source": [
        "def first_MEB(A, eps):\n",
        "  '''\n",
        "  The first algorithm that computes a (1+eps)-approximation to MEB(A)\n",
        "  Input: set of atoms A and epsilon\n",
        "  Output: center, set Chi, u, radius + annulus, radius, iterations\n",
        "  '''\n",
        "  alpha = np.argmax([np.linalg.norm(a - A[0])**2 for a in A])     # furthest point from A[0]\n",
        "  beta = np.argmax([np.linalg.norm(a - A[alpha])**2 for a in A])  # furthest point from A[alpha]\n",
        "  u = np.zeros(A.shape[0])\n",
        "  u[alpha] = 1/2\n",
        "  u[beta] = 1/2\n",
        "  chi = {alpha, beta}   # core set\n",
        "  c = np.dot(u,A)       # initial center\n",
        "  gamma = phi(u, A)     # squared radius\n",
        "  kappa = np.argmax([np.linalg.norm(a - c)**2 for a in A])        # furthest point from the center\n",
        "  delta = (np.linalg.norm(A[kappa] - c)**2/gamma) - 1             # approximation level    \n",
        "  k = 0                 # iteration\n",
        "  while delta > (1+eps)**2 -1 :\n",
        "    lamb = delta / (2*(1+delta))    # update parameter\n",
        "    k = k+1\n",
        "    u = (1-lamb)*u\n",
        "    u[kappa] += lamb\n",
        "    c = (1-lamb)*c + lamb*A[kappa]  # center\n",
        "    chi.add(kappa)\n",
        "    gamma = phi(u, A)\n",
        "    kappa = np.argmax([np.linalg.norm(a - c)**2 for a in A])\n",
        "    delta = (np.linalg.norm(A[kappa] - c)**2/gamma) - 1\n",
        "  return [c,[A[i] for i in chi],u,np.sqrt((1+delta)*gamma),np.sqrt(gamma),k]"
      ],
      "metadata": {
        "id": "JZTxw3rnuVx1"
      },
      "execution_count": null,
      "outputs": []
    },
    {
      "cell_type": "markdown",
      "source": [
        "#Second (1 + ϵ)-approximation to MEB algorithm"
      ],
      "metadata": {
        "id": "OeRRtq7Frcek"
      }
    },
    {
      "cell_type": "code",
      "source": [
        "def second_MEB(A, eps):\n",
        "  '''\n",
        "  The second algorithm that computes a (1+eps)-approximation to MEB(A)\n",
        "  Input: set of atoms A and epsilon\n",
        "  Output: center, set Chi, u, radius + annulus, radius, iterations\n",
        "  '''\n",
        "  alpha = np.argmax([np.linalg.norm(a - A[0])**2 for a in A])      # furthest point from A[0]\n",
        "  beta = np.argmax([np.linalg.norm(a - A[alpha])**2 for a in A])   # furthest point from A[alpha]\n",
        "  u = np.zeros(A.shape[0])\n",
        "  u[alpha] = 1/2\n",
        "  u[beta] = 1/2\n",
        "  chi = np.ones(A.shape)*np.inf   # core set\n",
        "  chi[alpha] = A[alpha]\n",
        "  chi[beta] = A[beta]\n",
        "  c = np.dot(u,A)                 # initial center\n",
        "  gamma = phi(u, A)               # squared radius\n",
        "  kappa = np.argmax([np.linalg.norm(a - c)**2 for a in A])   # furthest point from the center\n",
        "  csi = np.argmin([np.linalg.norm(a - c)**2 for a in chi])   # nearest point to the center\n",
        "  delta_plus = (np.linalg.norm(A[kappa] - c)**2/gamma) - 1   \n",
        "  delta_minus = 1 - (np.linalg.norm(A[csi] - c)**2/gamma)\n",
        "  delta = np.max([delta_plus, delta_minus])                  # approximation level\n",
        "  k = 0     # iteration\n",
        "  while delta > (1+eps)**2 -1 :\n",
        "    if delta > delta_minus:           # FW like step\n",
        "      lamb = delta / (2*(1+delta))    # update parameter\n",
        "      k = k+1\n",
        "      u = (1-lamb)*u\n",
        "      u[kappa] += lamb\n",
        "      c = (1-lamb)*c + lamb*A[kappa]  # center\n",
        "      chi[kappa] = A[kappa]\n",
        "    else:                             # Away FW like step\n",
        "      lamb = np.min([delta_minus/(2*(1-delta_minus)), u[csi]/(1-u[csi])])\n",
        "      if lamb ==  u[csi]/(1-u[csi]):\n",
        "        chi[csi] = np.ones(A.shape[1])*np.inf\n",
        "      k = k+1\n",
        "      u = (1+lamb)*u\n",
        "      u[csi] -= lamb\n",
        "      c = (1+lamb)*c - lamb*A[csi]\n",
        "    # updates\n",
        "    gamma = phi(u, A)\n",
        "    kappa = np.argmax([np.linalg.norm(a - c)**2 for a in A])\n",
        "    csi = np.argmin([np.linalg.norm(a - c)**2 for a in chi])\n",
        "    delta_plus = (np.linalg.norm(A[kappa] - c)**2/gamma) - 1\n",
        "    delta_minus = 1 - (np.linalg.norm(A[csi] - c)**2/gamma)\n",
        "    delta = np.max([delta_plus, delta_minus])\n",
        "  return [c,[row for row in chi if np.inf not in row],u,np.sqrt((1+delta)*gamma),np.sqrt(gamma),k]"
      ],
      "metadata": {
        "id": "6Ko7JfGXudQb"
      },
      "execution_count": null,
      "outputs": []
    },
    {
      "cell_type": "markdown",
      "source": [
        "#Datasets for the Minimum Enclosing Ball problem"
      ],
      "metadata": {
        "id": "I5FIBH6wtVLx"
      }
    },
    {
      "cell_type": "code",
      "source": [
        "'''\n",
        "Import Heart Disease dataset from Hungarian Institute of Cardiology\n",
        "\n",
        "Number of instances : 261\n",
        "Number of attributes : 10\n",
        "'''\n",
        "data1 = open(\"reprocessed.hungarian.data\", \"r\").read()\n",
        "\n",
        "data2 = data1.split('\\n')\n",
        "data3 = []\n",
        "for row in data2:\n",
        "  data3.append(row.split(' '))\n",
        "\n",
        "data4 = []\n",
        "for row in data3:\n",
        "  if '' in row: # eliminate rows with null values\n",
        "    continue\n",
        "  data4.append(list(map(lambda x: float(x), row)))\n",
        "\n",
        "# we deicided to rescale our data\n",
        "scaler = MinMaxScaler()\n",
        "data5 = [row[0:-4] for row in data4]\n",
        "\n",
        "for i in range(len(data5)):\n",
        "  data5[i].append(data4[i][-1])\n",
        "data7 = [row for row in data5 if -9 not in row]  # remove the missing values (denoted with -9)\n",
        "data8 = [row[0:-1] for row in data7]\n",
        "data6=scaler.fit_transform(data8)\n",
        "data_heart = np.array(data6)\n",
        "\n",
        "label_heart = np.array([row[-1] for row in data7])\n",
        "\n",
        "\n",
        "print(f'This is the Heart disease dataset: \\n {data_heart} \\n')\n",
        "print(f'This is the Heart disease label: \\n {label_heart}')"
      ],
      "metadata": {
        "id": "xA8Vo0fkySyU",
        "colab": {
          "base_uri": "https://localhost:8080/"
        },
        "outputId": "fb4c8544-6a5b-4f3b-dad6-0f05ed5bfaf5"
      },
      "execution_count": null,
      "outputs": [
        {
          "output_type": "stream",
          "name": "stdout",
          "text": [
            "This is the Heart disease dataset: \n",
            " [[0.32432432 1.         0.33333333 ... 0.83333333 0.         0.        ]\n",
            " [0.56756757 0.         0.66666667 ... 0.68518519 0.         0.2       ]\n",
            " [0.24324324 1.         0.33333333 ... 0.14814815 0.         0.        ]\n",
            " ...\n",
            " [0.54054054 1.         0.66666667 ... 0.51851852 0.         0.        ]\n",
            " [0.51351351 0.         0.33333333 ... 0.49074074 0.         0.2       ]\n",
            " [0.67567568 1.         1.         ... 0.61111111 0.         0.        ]] \n",
            "\n",
            "This is the Heart disease label: \n",
            " [0. 1. 0. 3. 0. 0. 0. 1. 0. 0. 3. 0. 3. 0. 0. 1. 0. 1. 1. 0. 0. 0. 3. 0.\n",
            " 0. 0. 0. 0. 3. 1. 3. 0. 0. 1. 0. 0. 0. 4. 0. 0. 3. 0. 0. 0. 0. 1. 2. 4.\n",
            " 0. 0. 0. 0. 1. 1. 0. 3. 0. 0. 1. 0. 0. 0. 0. 3. 0. 1. 0. 2. 0. 2. 2. 0.\n",
            " 0. 1. 0. 0. 1. 0. 2. 3. 0. 2. 0. 0. 0. 2. 0. 2. 0. 0. 0. 0. 4. 0. 2. 1.\n",
            " 0. 0. 0. 0. 0. 0. 2. 0. 0. 0. 1. 1. 1. 0. 1. 3. 0. 0. 4. 0. 0. 0. 0. 0.\n",
            " 0. 0. 1. 3. 3. 0. 1. 0. 1. 4. 4. 4. 0. 3. 0. 0. 0. 0. 2. 0. 0. 0. 4. 3.\n",
            " 0. 3. 4. 0. 0. 3. 4. 0. 0. 0. 0. 0. 0. 4. 4. 3. 0. 0. 0. 1. 0. 3. 0. 0.\n",
            " 2. 0. 0. 3. 0. 0. 0. 0. 0. 0. 2. 0. 0. 0. 0. 0. 0. 0. 0. 1. 0. 1. 1. 1.\n",
            " 0. 1. 0. 2. 0. 0. 2. 1. 0. 0. 0. 1. 0. 1. 0. 0. 0. 0. 0. 0. 4. 2. 2. 0.\n",
            " 2. 3. 0. 1. 0. 2. 2. 2. 3. 4. 1. 0. 0. 3. 0. 0. 0. 0. 0. 0. 0. 2. 1. 0.\n",
            " 3. 0. 2. 0. 0. 1. 0. 0. 3. 0. 0. 0. 4. 0. 0. 0. 0. 0. 0. 0. 0.]\n"
          ]
        }
      ]
    },
    {
      "cell_type": "code",
      "source": [
        "'''\n",
        "Import Arcene dataset from The National Cancer Institute (NCI) \n",
        "and the Eastern Virginia Medical School (EVMS)\n",
        "\n",
        "Number of instances : 100\n",
        "Number of attributes : 10000\n",
        "'''\n",
        "# import the Arcene dataset\n",
        "data11 = open(\"arcene_train.data\", \"r\").read()\n",
        "\n",
        "data12 = data11.split('\\n')\n",
        "data13 = []\n",
        "for row in data12:\n",
        "  data13.append(row.split(' '))\n",
        "\n",
        "data14 = []\n",
        "for row in data13:\n",
        "  if '' in row: \n",
        "    row = row[0:-1] # the last element of each row is ''\n",
        "  if '' in row: # eliminate rows with null values\n",
        "    continue\n",
        "  data14.append(list(map(lambda x: float(x), row)))\n",
        "\n",
        "# we deicided to rescale our data\n",
        "scaler = MinMaxScaler()\n",
        "data15=scaler.fit_transform(data14[0:-1])\n",
        "data_arcene = np.array(data15)\n",
        "\n",
        "# import the Arcene label\n",
        "label1 = open(\"arcene_train.labels\", \"r\").read()\n",
        "\n",
        "label2 = label1.split('\\n')\n",
        "label3 = [x for x in label2 if x!='']\n",
        "label4 = [int(x) for x in label3]\n",
        "label_arcene = np.array(label4)\n",
        "\n",
        "print(f'This is the Arcene dataset: \\n {data_arcene} \\n')\n",
        "print(f'This is the Arcene label: \\n {label_arcene}')"
      ],
      "metadata": {
        "colab": {
          "base_uri": "https://localhost:8080/"
        },
        "id": "A9ci70_Krdug",
        "outputId": "78ecfebe-8d15-4fca-f560-613d19c94b33"
      },
      "execution_count": null,
      "outputs": [
        {
          "output_type": "stream",
          "name": "stdout",
          "text": [
            "This is the Arcene dataset: \n",
            " [[0.         0.32568807 0.         ... 0.         0.         0.98311445]\n",
            " [0.         0.18807339 0.34745763 ... 0.         0.7244898  0.79362101]\n",
            " [0.         0.         0.00423729 ... 0.         0.08673469 0.95309568]\n",
            " ...\n",
            " [0.0106383  0.06880734 0.20338983 ... 0.         0.         0.84990619]\n",
            " [0.04255319 0.         0.16101695 ... 0.         0.48214286 0.75609756]\n",
            " [0.         0.         0.         ... 0.         0.0255102  0.684803  ]] \n",
            "\n",
            "This is the Arcene label: \n",
            " [ 1 -1  1  1 -1 -1  1 -1 -1 -1 -1  1 -1  1 -1  1 -1 -1 -1 -1 -1 -1 -1  1\n",
            " -1 -1  1 -1  1 -1  1  1  1 -1 -1  1 -1 -1  1 -1  1 -1 -1  1 -1 -1 -1 -1\n",
            "  1  1 -1  1 -1 -1  1 -1  1  1  1 -1  1  1 -1  1 -1 -1 -1 -1  1  1 -1  1\n",
            " -1 -1  1 -1 -1  1 -1  1  1  1 -1  1  1 -1  1  1 -1 -1  1 -1  1  1 -1 -1\n",
            " -1  1 -1  1]\n"
          ]
        }
      ]
    },
    {
      "cell_type": "markdown",
      "source": [
        "#Test for the two (1 + ϵ)-approximation to MEB algorithms (ϵ = 0.001)"
      ],
      "metadata": {
        "id": "rUEtgI1IujDG"
      }
    },
    {
      "cell_type": "code",
      "source": [
        "eps = 0.001"
      ],
      "metadata": {
        "id": "TbIrKgNtvcoE"
      },
      "execution_count": null,
      "outputs": []
    },
    {
      "cell_type": "code",
      "source": [
        "# Test of first_MEB on the Heart Disease dataset\n",
        "results_first_heart = first_MEB(data_heart, eps)\n",
        "\n",
        "print(\"The output are respectively: center, the set Chi, u, radius + annulus, radius, iterations \\n\")\n",
        "for i in range(len(results_first_heart)):\n",
        "  print(f'This is the output number {i+1}:\\n {results_first_heart[i]} \\n')"
      ],
      "metadata": {
        "colab": {
          "base_uri": "https://localhost:8080/"
        },
        "id": "9OBwEfKMvdSq",
        "outputId": "5c95f288-8e6e-4e61-8d0c-93ef40ee6fa2"
      },
      "execution_count": null,
      "outputs": [
        {
          "output_type": "stream",
          "name": "stdout",
          "text": [
            "The output are respectively: center, the set Chi, u, radius + annulus, radius, iterations \n",
            "\n",
            "This is the output number 1:\n",
            " [0.50086994 0.65012353 0.53716593 0.44864093 0.34605438 0.43271752\n",
            " 0.35457849 0.51043504 0.48068713 0.15822361] \n",
            "\n",
            "This is the output number 2:\n",
            " [array([1.        , 1.        , 1.        , 0.44444444, 0.42664093,\n",
            "       1.        , 0.        , 0.0462963 , 1.        , 0.3       ]), array([0.05405405, 0.        , 0.        , 0.72222222, 0.29343629,\n",
            "       0.        , 0.5       , 0.81481481, 0.        , 0.        ]), array([0.7027027 , 1.        , 1.        , 0.35185185, 1.        ,\n",
            "       1.        , 0.        , 0.39814815, 1.        , 0.2       ]), array([0.83783784, 0.        , 1.        , 0.35185185, 0.48841699,\n",
            "       1.        , 0.5       , 0.44444444, 1.        , 0.3       ]), array([0.18918919, 0.        , 0.        , 0.25925926, 0.14478764,\n",
            "       0.        , 0.5       , 0.9537037 , 0.        , 0.        ]), array([0.16216216, 1.        , 0.        , 0.44444444, 0.13706564,\n",
            "       0.        , 0.        , 0.90740741, 0.        , 0.        ]), array([0.91891892, 0.        , 0.        , 0.62962963, 0.20849421,\n",
            "       0.        , 0.        , 0.31481481, 0.        , 0.        ]), array([0.83783784, 1.        , 1.        , 0.44444444, 0.34555985,\n",
            "       1.        , 1.        , 0.34259259, 1.        , 0.        ]), array([0.        , 1.        , 0.33333333, 0.35185185, 0.09073359,\n",
            "       0.        , 1.        , 0.9537037 , 0.        , 0.        ]), array([0.64864865, 1.        , 1.        , 0.62962963, 0.31081081,\n",
            "       0.        , 0.5       , 0.        , 1.        , 0.8       ])] \n",
            "\n",
            "This is the output number 3:\n",
            " [0.         0.         0.         0.         0.         0.\n",
            " 0.         0.         0.         0.         0.         0.\n",
            " 0.         0.         0.         0.         0.         0.\n",
            " 0.         0.         0.         0.         0.         0.\n",
            " 0.         0.         0.         0.         0.         0.\n",
            " 0.         0.         0.         0.32944343 0.         0.\n",
            " 0.         0.         0.         0.         0.         0.\n",
            " 0.         0.         0.         0.         0.         0.\n",
            " 0.         0.         0.         0.         0.         0.\n",
            " 0.         0.         0.         0.         0.         0.\n",
            " 0.         0.         0.         0.04796961 0.         0.\n",
            " 0.         0.         0.         0.         0.         0.\n",
            " 0.         0.         0.         0.         0.         0.\n",
            " 0.         0.         0.         0.         0.         0.\n",
            " 0.         0.         0.         0.         0.         0.\n",
            " 0.         0.         0.         0.         0.         0.\n",
            " 0.         0.         0.         0.         0.         0.\n",
            " 0.         0.         0.         0.         0.         0.\n",
            " 0.00617752 0.15603064 0.00617752 0.         0.         0.\n",
            " 0.         0.         0.         0.         0.         0.\n",
            " 0.         0.         0.         0.         0.         0.\n",
            " 0.         0.         0.         0.         0.         0.\n",
            " 0.         0.         0.         0.         0.         0.\n",
            " 0.09580817 0.         0.         0.         0.         0.\n",
            " 0.         0.0012884  0.         0.         0.         0.\n",
            " 0.         0.         0.         0.         0.         0.\n",
            " 0.         0.         0.         0.         0.         0.\n",
            " 0.         0.         0.         0.         0.         0.\n",
            " 0.         0.         0.         0.         0.         0.\n",
            " 0.         0.         0.03013869 0.         0.         0.\n",
            " 0.         0.         0.         0.         0.         0.\n",
            " 0.         0.         0.1694364  0.         0.         0.\n",
            " 0.         0.         0.15752961 0.         0.         0.\n",
            " 0.         0.         0.         0.         0.         0.\n",
            " 0.         0.         0.         0.         0.         0.\n",
            " 0.         0.         0.         0.         0.         0.\n",
            " 0.         0.         0.         0.         0.         0.\n",
            " 0.         0.         0.         0.         0.         0.\n",
            " 0.         0.         0.         0.         0.         0.\n",
            " 0.         0.         0.         0.         0.         0.\n",
            " 0.         0.         0.         0.         0.         0.\n",
            " 0.         0.         0.         0.         0.         0.\n",
            " 0.         0.         0.         0.         0.         0.\n",
            " 0.         0.         0.        ] \n",
            "\n",
            "This is the output number 4:\n",
            " 1.2433636505306669 \n",
            "\n",
            "This is the output number 5:\n",
            " 1.2421614507427812 \n",
            "\n",
            "This is the output number 6:\n",
            " 642 \n",
            "\n"
          ]
        }
      ]
    },
    {
      "cell_type": "code",
      "source": [
        "# Test of second_MEB on the Heart Disease dataset\n",
        "results_second_heart = second_MEB(data_heart, eps)\n",
        "\n",
        "print(\"The output are respectively: center, the set Chi, u, radius + annulus, radius, iterations \\n\")\n",
        "for i in range(len(results_second_heart)):\n",
        "  print(f'This is the output number {i+1}:\\n {results_second_heart[i]} \\n')"
      ],
      "metadata": {
        "colab": {
          "base_uri": "https://localhost:8080/"
        },
        "id": "z_Eba1S8v4bB",
        "outputId": "35eb8fc1-d596-47c2-b090-2ba8081275cf"
      },
      "execution_count": null,
      "outputs": [
        {
          "output_type": "stream",
          "name": "stdout",
          "text": [
            "The output are respectively: center, the set Chi, u, radius + annulus, radius, iterations \n",
            "\n",
            "This is the output number 1:\n",
            " [0.50205523 0.65273653 0.53701062 0.44438635 0.35073213 0.42919819\n",
            " 0.35393424 0.51107961 0.47914766 0.15789804] \n",
            "\n",
            "This is the output number 2:\n",
            " [array([1.        , 1.        , 1.        , 0.44444444, 0.42664093,\n",
            "       1.        , 0.        , 0.0462963 , 1.        , 0.3       ]), array([0.64864865, 1.        , 1.        , 0.62962963, 0.31081081,\n",
            "       0.        , 0.5       , 0.        , 1.        , 0.8       ]), array([0.18918919, 0.        , 0.        , 0.25925926, 0.14478764,\n",
            "       0.        , 0.5       , 0.9537037 , 0.        , 0.        ]), array([0.7027027 , 1.        , 1.        , 0.35185185, 1.        ,\n",
            "       1.        , 0.        , 0.39814815, 1.        , 0.2       ]), array([0.91891892, 0.        , 0.        , 0.62962963, 0.20849421,\n",
            "       0.        , 0.        , 0.31481481, 0.        , 0.        ]), array([0.        , 1.        , 0.33333333, 0.35185185, 0.09073359,\n",
            "       0.        , 1.        , 0.9537037 , 0.        , 0.        ]), array([0.05405405, 0.        , 0.        , 0.72222222, 0.29343629,\n",
            "       0.        , 0.5       , 0.81481481, 0.        , 0.        ])] \n",
            "\n",
            "This is the output number 3:\n",
            " [0.00000000e+00 0.00000000e+00 0.00000000e+00 0.00000000e+00\n",
            " 0.00000000e+00 0.00000000e+00 0.00000000e+00 0.00000000e+00\n",
            " 0.00000000e+00 0.00000000e+00 0.00000000e+00 0.00000000e+00\n",
            " 0.00000000e+00 0.00000000e+00 0.00000000e+00 0.00000000e+00\n",
            " 0.00000000e+00 0.00000000e+00 0.00000000e+00 0.00000000e+00\n",
            " 0.00000000e+00 0.00000000e+00 0.00000000e+00 0.00000000e+00\n",
            " 0.00000000e+00 0.00000000e+00 0.00000000e+00 0.00000000e+00\n",
            " 0.00000000e+00 0.00000000e+00 0.00000000e+00 0.00000000e+00\n",
            " 0.00000000e+00 3.20988207e-01 0.00000000e+00 0.00000000e+00\n",
            " 0.00000000e+00 0.00000000e+00 0.00000000e+00 0.00000000e+00\n",
            " 0.00000000e+00 0.00000000e+00 0.00000000e+00 0.00000000e+00\n",
            " 0.00000000e+00 0.00000000e+00 0.00000000e+00 0.00000000e+00\n",
            " 0.00000000e+00 0.00000000e+00 0.00000000e+00 0.00000000e+00\n",
            " 0.00000000e+00 0.00000000e+00 0.00000000e+00 0.00000000e+00\n",
            " 0.00000000e+00 0.00000000e+00 0.00000000e+00 0.00000000e+00\n",
            " 0.00000000e+00 0.00000000e+00 0.00000000e+00 4.99494702e-02\n",
            " 0.00000000e+00 0.00000000e+00 0.00000000e+00 0.00000000e+00\n",
            " 0.00000000e+00 0.00000000e+00 0.00000000e+00 0.00000000e+00\n",
            " 0.00000000e+00 0.00000000e+00 0.00000000e+00 0.00000000e+00\n",
            " 0.00000000e+00 0.00000000e+00 0.00000000e+00 0.00000000e+00\n",
            " 0.00000000e+00 0.00000000e+00 0.00000000e+00 0.00000000e+00\n",
            " 0.00000000e+00 0.00000000e+00 0.00000000e+00 0.00000000e+00\n",
            " 0.00000000e+00 0.00000000e+00 0.00000000e+00 0.00000000e+00\n",
            " 0.00000000e+00 0.00000000e+00 0.00000000e+00 0.00000000e+00\n",
            " 0.00000000e+00 0.00000000e+00 0.00000000e+00 0.00000000e+00\n",
            " 0.00000000e+00 0.00000000e+00 0.00000000e+00 0.00000000e+00\n",
            " 0.00000000e+00 0.00000000e+00 0.00000000e+00 0.00000000e+00\n",
            " 0.00000000e+00 1.64799146e-01 1.98695170e-17 0.00000000e+00\n",
            " 0.00000000e+00 0.00000000e+00 0.00000000e+00 0.00000000e+00\n",
            " 0.00000000e+00 0.00000000e+00 0.00000000e+00 0.00000000e+00\n",
            " 0.00000000e+00 0.00000000e+00 0.00000000e+00 0.00000000e+00\n",
            " 0.00000000e+00 0.00000000e+00 0.00000000e+00 0.00000000e+00\n",
            " 0.00000000e+00 0.00000000e+00 0.00000000e+00 0.00000000e+00\n",
            " 0.00000000e+00 0.00000000e+00 0.00000000e+00 0.00000000e+00\n",
            " 0.00000000e+00 0.00000000e+00 1.08209985e-01 0.00000000e+00\n",
            " 0.00000000e+00 0.00000000e+00 0.00000000e+00 0.00000000e+00\n",
            " 0.00000000e+00 0.00000000e+00 0.00000000e+00 0.00000000e+00\n",
            " 0.00000000e+00 0.00000000e+00 0.00000000e+00 0.00000000e+00\n",
            " 0.00000000e+00 0.00000000e+00 0.00000000e+00 0.00000000e+00\n",
            " 0.00000000e+00 0.00000000e+00 0.00000000e+00 0.00000000e+00\n",
            " 0.00000000e+00 0.00000000e+00 0.00000000e+00 0.00000000e+00\n",
            " 0.00000000e+00 0.00000000e+00 0.00000000e+00 0.00000000e+00\n",
            " 0.00000000e+00 0.00000000e+00 0.00000000e+00 0.00000000e+00\n",
            " 0.00000000e+00 0.00000000e+00 0.00000000e+00 0.00000000e+00\n",
            " 3.65221942e-02 0.00000000e+00 0.00000000e+00 0.00000000e+00\n",
            " 0.00000000e+00 0.00000000e+00 0.00000000e+00 0.00000000e+00\n",
            " 0.00000000e+00 0.00000000e+00 0.00000000e+00 0.00000000e+00\n",
            " 1.73588865e-01 0.00000000e+00 0.00000000e+00 0.00000000e+00\n",
            " 0.00000000e+00 0.00000000e+00 1.45942131e-01 0.00000000e+00\n",
            " 0.00000000e+00 0.00000000e+00 0.00000000e+00 0.00000000e+00\n",
            " 0.00000000e+00 0.00000000e+00 0.00000000e+00 0.00000000e+00\n",
            " 0.00000000e+00 0.00000000e+00 0.00000000e+00 0.00000000e+00\n",
            " 0.00000000e+00 0.00000000e+00 0.00000000e+00 0.00000000e+00\n",
            " 0.00000000e+00 0.00000000e+00 0.00000000e+00 0.00000000e+00\n",
            " 0.00000000e+00 0.00000000e+00 0.00000000e+00 0.00000000e+00\n",
            " 0.00000000e+00 0.00000000e+00 0.00000000e+00 0.00000000e+00\n",
            " 0.00000000e+00 0.00000000e+00 0.00000000e+00 0.00000000e+00\n",
            " 0.00000000e+00 0.00000000e+00 0.00000000e+00 0.00000000e+00\n",
            " 0.00000000e+00 0.00000000e+00 0.00000000e+00 0.00000000e+00\n",
            " 0.00000000e+00 0.00000000e+00 0.00000000e+00 0.00000000e+00\n",
            " 0.00000000e+00 0.00000000e+00 0.00000000e+00 0.00000000e+00\n",
            " 0.00000000e+00 0.00000000e+00 0.00000000e+00 0.00000000e+00\n",
            " 0.00000000e+00 0.00000000e+00 0.00000000e+00 0.00000000e+00\n",
            " 0.00000000e+00 0.00000000e+00 0.00000000e+00 0.00000000e+00\n",
            " 0.00000000e+00 0.00000000e+00 0.00000000e+00 0.00000000e+00\n",
            " 0.00000000e+00] \n",
            "\n",
            "This is the output number 4:\n",
            " 1.2443250747161034 \n",
            "\n",
            "This is the output number 5:\n",
            " 1.2430937578186194 \n",
            "\n",
            "This is the output number 6:\n",
            " 93 \n",
            "\n"
          ]
        }
      ]
    },
    {
      "cell_type": "code",
      "source": [
        "# Test of first_MEB on the Arcene dataset\n",
        "results_first_arcene = first_MEB(data_arcene, eps)\n",
        "\n",
        "print(\"The output are respectively: center, the set Chi, u, radius + annulus, radius, iterations \\n\")\n",
        "for i in range(len(results_first_arcene)):\n",
        "  print(f'This is the output number {i+1}:\\n {results_first_arcene[i]} \\n')"
      ],
      "metadata": {
        "colab": {
          "base_uri": "https://localhost:8080/"
        },
        "id": "cLv46H3DwGM6",
        "outputId": "d25ecced-8281-4f0a-835c-1996424a5acc"
      },
      "execution_count": null,
      "outputs": [
        {
          "output_type": "stream",
          "name": "stdout",
          "text": [
            "The output are respectively: center, the set Chi, u, radius + annulus, radius, iterations \n",
            "\n",
            "This is the output number 1:\n",
            " [0.09929669 0.34917001 0.31796461 ... 0.         0.3876518  0.48286736] \n",
            "\n",
            "This is the output number 2:\n",
            " [array([0.04255319, 0.        , 0.16101695, ..., 0.        , 0.48214286,\n",
            "       0.75609756]), array([0.25      , 0.01834862, 0.87711864, ..., 0.        , 0.42602041,\n",
            "       0.7673546 ]), array([0.        , 0.        , 0.43220339, ..., 0.        , 0.17602041,\n",
            "       0.80863039]), array([0.03723404, 0.02752294, 0.        , ..., 0.        , 0.0994898 ,\n",
            "       0.47654784]), array([0.14893617, 0.33486239, 0.        , ..., 0.        , 0.09693878,\n",
            "       0.38461538]), array([0.90425532, 0.01376147, 0.79661017, ..., 0.        , 0.14795918,\n",
            "       0.68292683]), array([0.        , 1.        , 0.63559322, ..., 0.        , 0.95153061,\n",
            "       0.69981238]), array([0.02659574, 0.33486239, 0.40677966, ..., 0.        , 0.07908163,\n",
            "       0.35459662]), array([0.        , 0.        , 0.05932203, ..., 0.        , 0.07653061,\n",
            "       0.80487805]), array([0.09574468, 0.24770642, 0.        , ..., 0.        , 0.86989796,\n",
            "       0.        ])] \n",
            "\n",
            "This is the output number 3:\n",
            " [0.         0.         0.         0.         0.         0.\n",
            " 0.         0.0387617  0.         0.         0.0118893  0.\n",
            " 0.         0.         0.20834641 0.         0.         0.\n",
            " 0.         0.         0.         0.         0.         0.\n",
            " 0.         0.         0.         0.         0.         0.\n",
            " 0.1048164  0.         0.         0.         0.         0.\n",
            " 0.         0.         0.         0.         0.         0.\n",
            " 0.         0.         0.         0.         0.         0.\n",
            " 0.         0.         0.         0.         0.         0.0568908\n",
            " 0.21246606 0.         0.         0.         0.         0.01785973\n",
            " 0.         0.         0.         0.         0.         0.\n",
            " 0.         0.         0.         0.         0.         0.\n",
            " 0.         0.         0.         0.         0.         0.\n",
            " 0.         0.         0.         0.         0.08543549 0.\n",
            " 0.         0.         0.         0.         0.         0.22368199\n",
            " 0.         0.         0.         0.         0.         0.\n",
            " 0.         0.         0.0398521  0.        ] \n",
            "\n",
            "This is the output number 4:\n",
            " 27.55145230830424 \n",
            "\n",
            "This is the output number 5:\n",
            " 27.525521864061748 \n",
            "\n",
            "This is the output number 6:\n",
            " 106 \n",
            "\n"
          ]
        }
      ]
    },
    {
      "cell_type": "code",
      "source": [
        "# Test of second_MEB on the Arcene dataset\n",
        "results_second_arcene = second_MEB(data_arcene, eps)\n",
        "\n",
        "print(\"The output are respectively: center, the set Chi, u, radius + annulus, radius, iterations \\n\")\n",
        "for i in range(len(results_second_arcene)):\n",
        "  print(f'This is the output number {i+1}:\\n {results_second_arcene[i]} \\n')"
      ],
      "metadata": {
        "colab": {
          "base_uri": "https://localhost:8080/"
        },
        "id": "_LgL1oc0wVs4",
        "outputId": "33017159-d82b-4fa8-c242-4a2d2eb26866"
      },
      "execution_count": null,
      "outputs": [
        {
          "output_type": "stream",
          "name": "stdout",
          "text": [
            "The output are respectively: center, the set Chi, u, radius + annulus, radius, iterations \n",
            "\n",
            "This is the output number 1:\n",
            " [0.09499931 0.35091401 0.31684039 ... 0.         0.39399559 0.48130313] \n",
            "\n",
            "This is the output number 2:\n",
            " [array([0.25      , 0.01834862, 0.87711864, ..., 0.        , 0.42602041,\n",
            "       0.7673546 ]), array([0.        , 0.        , 0.43220339, ..., 0.        , 0.17602041,\n",
            "       0.80863039]), array([0.03723404, 0.02752294, 0.        , ..., 0.        , 0.0994898 ,\n",
            "       0.47654784]), array([0.09574468, 0.24770642, 0.        , ..., 0.        , 0.86989796,\n",
            "       0.        ]), array([0.90425532, 0.01376147, 0.79661017, ..., 0.        , 0.14795918,\n",
            "       0.68292683]), array([0.        , 1.        , 0.63559322, ..., 0.        , 0.95153061,\n",
            "       0.69981238]), array([0.        , 0.        , 0.05932203, ..., 0.        , 0.07653061,\n",
            "       0.80487805]), array([0.14893617, 0.33486239, 0.        , ..., 0.        , 0.09693878,\n",
            "       0.38461538]), array([1.        , 0.22018349, 0.41101695, ..., 0.        , 0.        ,\n",
            "       0.53283302]), array([0.02659574, 0.33486239, 0.40677966, ..., 0.        , 0.07908163,\n",
            "       0.35459662]), array([0.04255319, 0.        , 0.16101695, ..., 0.        , 0.48214286,\n",
            "       0.75609756])] \n",
            "\n",
            "This is the output number 3:\n",
            " [0.         0.         0.         0.         0.         0.\n",
            " 0.         0.04488567 0.         0.         0.01034843 0.\n",
            " 0.         0.         0.2094856  0.         0.         0.\n",
            " 0.         0.         0.         0.         0.         0.\n",
            " 0.         0.         0.         0.         0.         0.\n",
            " 0.10844302 0.         0.         0.         0.         0.\n",
            " 0.         0.         0.         0.         0.         0.\n",
            " 0.         0.         0.         0.         0.         0.\n",
            " 0.         0.         0.         0.         0.         0.04523708\n",
            " 0.21401046 0.         0.         0.         0.         0.01544918\n",
            " 0.         0.         0.         0.         0.         0.\n",
            " 0.         0.         0.         0.         0.         0.\n",
            " 0.         0.         0.         0.         0.         0.\n",
            " 0.         0.         0.         0.         0.0801097  0.\n",
            " 0.         0.00496318 0.         0.         0.         0.22370743\n",
            " 0.         0.         0.         0.         0.         0.\n",
            " 0.         0.         0.04336025 0.        ] \n",
            "\n",
            "This is the output number 4:\n",
            " 27.550010480971462 \n",
            "\n",
            "This is the output number 5:\n",
            " 27.526666147140638 \n",
            "\n",
            "This is the output number 6:\n",
            " 39 \n",
            "\n"
          ]
        }
      ]
    },
    {
      "cell_type": "markdown",
      "source": [
        "#Test for the two (1 + ϵ)-approximation to MEB algorithms (ϵ ∈ [0.0001, 1])"
      ],
      "metadata": {
        "id": "NLDBjirHwgYM"
      }
    },
    {
      "cell_type": "code",
      "source": [
        "'''\n",
        "Heart Disease dataset First and Second MEB plots\n",
        "'''\n",
        "\n",
        "# range of epsilon values\n",
        "eps_list = [round(0.1**i,i) for i in range(0,5)]\n",
        "\n",
        "# First MEB algorithm\n",
        "timer_first_heart = []\n",
        "iterations_first_heart = []\n",
        "coreset_first_heart = []\n",
        "\n",
        "for epsilon in eps_list:\n",
        "  t0_first = time.time()\n",
        "  output_first_heart = first_MEB(data_heart,epsilon)\n",
        "  iterations_first_heart.append(output_first_heart[-1])\n",
        "  timer_first_heart.append(time.time()-t0_first)\n",
        "  coreset_first_heart.append(sum([i != 0 for i in output_first_heart[2]]))\n",
        "\n",
        "# Second MEB algorithm\n",
        "timer_second_heart = []\n",
        "iterations_second_heart = []\n",
        "coreset_second_heart = []\n",
        "\n",
        "for epsilon in eps_list:\n",
        "  t0_second = time.time()\n",
        "  output_second_heart = second_MEB(data_heart,epsilon)\n",
        "  iterations_second_heart.append(output_second_heart[-1])\n",
        "  timer_second_heart.append(time.time()-t0_second)\n",
        "  coreset_second_heart.append(sum([i != 0 for i in output_second_heart[2]]))\n",
        "\n",
        "default_ticks = range(len(eps_list))\n",
        "\n",
        "# Iterations Heart Disease plot\n",
        "plt.plot(default_ticks, iterations_first_heart, iterations_second_heart)\n",
        "plt.xticks(default_ticks, eps_list)\n",
        "plt.title(\"Iterations Heart Disease\")\n",
        "plt.legend(['first_MEB','second_MEB'])\n",
        "plt.show()\n",
        "\n",
        "# Time Heart Disease plot\n",
        "plt.plot(default_ticks, timer_first_heart, timer_second_heart)\n",
        "plt.xticks(default_ticks, eps_list)\n",
        "plt.title(\"Time Heart Disease\")\n",
        "plt.legend(['first_MEB','second_MEB'])\n",
        "plt.show()\n",
        "\n",
        "# Coreset Heart Disease plot\n",
        "plt.plot(default_ticks, coreset_first_heart, coreset_second_heart)\n",
        "plt.xticks(default_ticks, eps_list)\n",
        "plt.title(\"Coreset Heart Disease\")\n",
        "plt.legend(['first_MEB','second_MEB'])\n",
        "plt.show()"
      ],
      "metadata": {
        "colab": {
          "base_uri": "https://localhost:8080/",
          "height": 809
        },
        "id": "FM33ykzcw_bc",
        "outputId": "9099ac04-2fde-4864-8f57-bee2faadf15f"
      },
      "execution_count": null,
      "outputs": [
        {
          "output_type": "display_data",
          "data": {
            "text/plain": [
              "<Figure size 432x288 with 1 Axes>"
            ],
            "image/png": "[encoded data removed]"
          },
          "metadata": {
            "needs_background": "light"
          }
        },
        {
          "output_type": "display_data",
          "data": {
            "text/plain": [
              "<Figure size 432x288 with 1 Axes>"
            ],
            "image/png": "[encoded data removed]"
          },
          "metadata": {
            "needs_background": "light"
          }
        },
        {
          "output_type": "display_data",
          "data": {
            "text/plain": [
              "<Figure size 432x288 with 1 Axes>"
            ],
            "image/png": "[encoded data removed]"
          },
          "metadata": {
            "needs_background": "light"
          }
        }
      ]
    },
    {
      "cell_type": "code",
      "source": [
        "'''\n",
        "Arcene dataset First and Second MEB plots\n",
        "'''\n",
        "\n",
        "# range of epsilon values\n",
        "eps_list = [round(0.1**i,i) for i in range(0,5)]\n",
        "\n",
        "# First MEB algorithm\n",
        "timer_first_arcene = []\n",
        "iterations_first_arcene = []\n",
        "coreset_first_arcene = []\n",
        "\n",
        "for epsilon in eps_list:\n",
        "  t0_first = time.time()\n",
        "  output_first_arcene = first_MEB(data_arcene,epsilon)\n",
        "  iterations_first_arcene.append(output_first_arcene[-1])\n",
        "  timer_first_arcene.append(time.time()-t0_first)\n",
        "  coreset_first_arcene.append(sum([i != 0 for i in output_first_arcene[2]]))\n",
        "\n",
        "# Second MEB algorithm\n",
        "timer_second_arcene = []\n",
        "iterations_second_arcene = []\n",
        "coreset_second_arcene = []\n",
        "\n",
        "for epsilon in eps_list:\n",
        "  t0_second = time.time()\n",
        "  output_second_arcene = second_MEB(data_arcene,epsilon)\n",
        "  iterations_second_arcene.append(output_second_arcene[-1])\n",
        "  timer_second_arcene.append(time.time()-t0_second)\n",
        "  coreset_second_arcene.append(sum([i != 0 for i in output_second_arcene[2]]))\n",
        "\n",
        "default_ticks = range(len(eps_list))\n",
        "\n",
        "# Iterations Arcene plot\n",
        "plt.plot(default_ticks, iterations_first_arcene, iterations_second_arcene)\n",
        "plt.xticks(default_ticks, eps_list)\n",
        "plt.title(\"Iterations Arcene\")\n",
        "plt.legend(['first_MEB','second_MEB'])\n",
        "plt.show()\n",
        "\n",
        "# Time Arcene plot\n",
        "plt.plot(default_ticks, timer_first_arcene, timer_second_arcene)\n",
        "plt.xticks(default_ticks, eps_list)\n",
        "plt.title(\"Time Arcene\")\n",
        "plt.legend(['first_MEB','second_MEB'])\n",
        "plt.show()\n",
        "\n",
        "# Coreset Arcene plot\n",
        "plt.plot(default_ticks, coreset_first_arcene, coreset_second_arcene)\n",
        "plt.xticks(default_ticks, eps_list)\n",
        "plt.title(\"Coreset Arcene\")\n",
        "plt.legend(['first_MEB','second_MEB'])\n",
        "plt.show()"
      ],
      "metadata": {
        "colab": {
          "base_uri": "https://localhost:8080/",
          "height": 809
        },
        "id": "FMP_M_p6xMPF",
        "outputId": "aace0d57-de2c-449a-f754-31a5b02c9618"
      },
      "execution_count": null,
      "outputs": [
        {
          "output_type": "display_data",
          "data": {
            "text/plain": [
              "<Figure size 432x288 with 1 Axes>"
            ],
            "image/png": "[encoded data removed]"
          },
          "metadata": {
            "needs_background": "light"
          }
        },
        {
          "output_type": "display_data",
          "data": {
            "text/plain": [
              "<Figure size 432x288 with 1 Axes>"
            ],
            "image/png": "[encoded data removed]"
          },
          "metadata": {
            "needs_background": "light"
          }
        },
        {
          "output_type": "display_data",
          "data": {
            "text/plain": [
              "<Figure size 432x288 with 1 Axes>"
            ],
            "image/png": "[encoded data removed]"
          },
          "metadata": {
            "needs_background": "light"
          }
        }
      ]
    },
    {
      "cell_type": "markdown",
      "source": [
        "#Anomaly detection"
      ],
      "metadata": {
        "id": "kUJAGYccyTl6"
      }
    },
    {
      "cell_type": "code",
      "source": [
        "'''\n",
        "Anomaly detection of Heart Disease dataset with at least n heart attack (second_MEB)\n",
        "'''\n",
        "n = 1    # n from 0 to 4\n",
        "c, Chi, u, r_annulus, r, iterations = second_MEB(data_heart[[x>=n for x in label_heart]], 0.001)\n",
        "\n",
        "label_or = label_heart[[np.linalg.norm(c-row)>r for row in data_heart]]\n",
        "print(f'Label of intances out of the radius: \\n {label_or}, \\n Cardinality: {len(label_or)} \\n')\n",
        "label_or_annulus = label_heart[[np.linalg.norm(c-row)>r_annulus for row in data_heart]]\n",
        "print(f'Label of intances out of the radius + annulus: \\n {label_or_annulus}, \\n Cardinality: {len(label_or_annulus)} \\n')\n",
        "all_instances = label_heart[[x>=n for x in label_heart]]\n",
        "print(f'All intances considered: \\n {all_instances}, \\n Cardinality: {len(all_instances)} \\n')"
      ],
      "metadata": {
        "colab": {
          "base_uri": "https://localhost:8080/"
        },
        "id": "fccvNeRyyUEw",
        "outputId": "d200f420-869a-49c5-f2de-6c650dcd6f3f"
      },
      "execution_count": null,
      "outputs": [
        {
          "output_type": "stream",
          "name": "stdout",
          "text": [
            "Label of intances out of the radius: \n",
            " [0. 3. 2. 1. 0. 0. 0. 0. 3. 0. 0. 0. 0. 0. 0. 0. 0. 0. 0.], \n",
            " Cardinality: 19 \n",
            "\n",
            "Label of intances out of the radius + annulus: \n",
            " [0. 0. 0. 0. 0. 0. 0. 0. 0. 0. 0. 0. 0. 0. 0.], \n",
            " Cardinality: 15 \n",
            "\n",
            "All intances considered: \n",
            " [1. 3. 1. 3. 3. 1. 1. 1. 3. 3. 1. 3. 1. 4. 3. 1. 2. 4. 1. 1. 3. 1. 3. 1.\n",
            " 2. 2. 2. 1. 1. 2. 3. 2. 2. 2. 4. 2. 1. 2. 1. 1. 1. 1. 3. 4. 1. 3. 3. 1.\n",
            " 1. 4. 4. 4. 3. 2. 4. 3. 3. 4. 3. 4. 4. 4. 3. 1. 3. 2. 3. 2. 1. 1. 1. 1.\n",
            " 1. 2. 2. 1. 1. 1. 4. 2. 2. 2. 3. 1. 2. 2. 2. 3. 4. 1. 3. 2. 1. 3. 2. 1.\n",
            " 3. 4.], \n",
            " Cardinality: 98 \n",
            "\n"
          ]
        }
      ]
    },
    {
      "cell_type": "code",
      "source": [
        "'''\n",
        "Anomaly detection of Heart Disease dataset with at least n heart attack (first_MEB)\n",
        "'''\n",
        "n = 1    # n from 0 to 4\n",
        "c, Chi, u, r_annulus, r, iterations = first_MEB(data_heart[[x>=n for x in label_heart]], 0.001)\n",
        "\n",
        "label_or = label_heart[[np.linalg.norm(c-row)>r for row in data_heart]]\n",
        "print(f'Label of intances out of the radius: \\n {label_or}, \\n Cardinality: {len(label_or)} \\n')\n",
        "label_or_annulus = label_heart[[np.linalg.norm(c-row)>r_annulus for row in data_heart]]\n",
        "print(f'Label of intances out of the radius + annulus: \\n {label_or_annulus}, \\n Cardinality: {len(label_or_annulus)} \\n')\n",
        "all_instances = label_heart[[x>=n for x in label_heart]]\n",
        "print(f'All intances considered: \\n {all_instances}, \\n Cardinality: {len(all_instances)} \\n')"
      ],
      "metadata": {
        "colab": {
          "base_uri": "https://localhost:8080/"
        },
        "id": "najXN8cTxj3V",
        "outputId": "bacf397f-2242-4bd7-ef6e-0de3589740e3"
      },
      "execution_count": null,
      "outputs": [
        {
          "output_type": "stream",
          "name": "stdout",
          "text": [
            "Label of intances out of the radius: \n",
            " [0. 3. 2. 0. 1. 4. 0. 0. 0. 3. 3. 0. 0. 0. 0. 0. 0. 0. 0. 0. 0.], \n",
            " Cardinality: 21 \n",
            "\n",
            "Label of intances out of the radius + annulus: \n",
            " [0. 0. 0. 0. 0. 0. 0. 0. 0. 0. 0. 0. 0. 0. 0.], \n",
            " Cardinality: 15 \n",
            "\n",
            "All intances considered: \n",
            " [1. 3. 1. 3. 3. 1. 1. 1. 3. 3. 1. 3. 1. 4. 3. 1. 2. 4. 1. 1. 3. 1. 3. 1.\n",
            " 2. 2. 2. 1. 1. 2. 3. 2. 2. 2. 4. 2. 1. 2. 1. 1. 1. 1. 3. 4. 1. 3. 3. 1.\n",
            " 1. 4. 4. 4. 3. 2. 4. 3. 3. 4. 3. 4. 4. 4. 3. 1. 3. 2. 3. 2. 1. 1. 1. 1.\n",
            " 1. 2. 2. 1. 1. 1. 4. 2. 2. 2. 3. 1. 2. 2. 2. 3. 4. 1. 3. 2. 1. 3. 2. 1.\n",
            " 3. 4.], \n",
            " Cardinality: 98 \n",
            "\n"
          ]
        }
      ]
    },
    {
      "cell_type": "code",
      "source": [
        "'''\n",
        "Anomaly detection of Arcene dataset with cancer or not (second_MEB)\n",
        "'''\n",
        "n = -1    # 1 positive, -1 negative\n",
        "c, Chi, u, r_annulus, r, iterations = second_MEB(data_arcene[[x==n for x in label_arcene]], 0.0001)\n",
        "\n",
        "label_or = label_arcene[[np.linalg.norm(c-row)>r for row in data_arcene]]\n",
        "print(f'Label of intances out of the radius: \\n {label_or}, \\n Cardinality: {len(label_or)} \\n')\n",
        "label_or_annulus = label_arcene[[np.linalg.norm(c-row)>r_annulus for row in data_arcene]]\n",
        "print(f'Label of intances out of the radius + annulus: \\n {label_or_annulus}, \\n Cardinality: {len(label_or_annulus)} \\n')\n",
        "all_instances = label_arcene[[x==n for x in label_arcene]]\n",
        "print(f'All intances considered: \\n {all_instances}, \\n Cardinality: {len(all_instances)} \\n')"
      ],
      "metadata": {
        "colab": {
          "base_uri": "https://localhost:8080/"
        },
        "id": "bZ5d-IMD4YlK",
        "outputId": "11b8fa61-d048-4c87-e930-c22d4d2704a5"
      },
      "execution_count": null,
      "outputs": [
        {
          "output_type": "stream",
          "name": "stdout",
          "text": [
            "Label of intances out of the radius: \n",
            " [-1  1  1 -1 -1  1 -1 -1], \n",
            " Cardinality: 8 \n",
            "\n",
            "Label of intances out of the radius + annulus: \n",
            " [1 1 1], \n",
            " Cardinality: 3 \n",
            "\n",
            "All intances considered: \n",
            " [-1 -1 -1 -1 -1 -1 -1 -1 -1 -1 -1 -1 -1 -1 -1 -1 -1 -1 -1 -1 -1 -1 -1 -1\n",
            " -1 -1 -1 -1 -1 -1 -1 -1 -1 -1 -1 -1 -1 -1 -1 -1 -1 -1 -1 -1 -1 -1 -1 -1\n",
            " -1 -1 -1 -1 -1 -1 -1 -1], \n",
            " Cardinality: 56 \n",
            "\n"
          ]
        }
      ]
    },
    {
      "cell_type": "code",
      "source": [
        "'''\n",
        "Anomaly detection of Arcene dataset with cancer or not (first_MEB)\n",
        "'''\n",
        "n = -1    # 1 positive, -1 negative\n",
        "c, Chi, u, r_annulus, r, iterations = first_MEB(data_arcene[[x==n for x in label_arcene]], 0.0001)\n",
        "\n",
        "label_or = label_arcene[[np.linalg.norm(c-row)>r for row in data_arcene]]\n",
        "print(f'Label of intances out of the radius: \\n {label_or}, \\n Cardinality: {len(label_or)} \\n')\n",
        "label_or_annulus = label_arcene[[np.linalg.norm(c-row)>r_annulus for row in data_arcene]]\n",
        "print(f'Label of intances out of the radius + annulus: \\n {label_or_annulus}, \\n Cardinality: {len(label_or_annulus)} \\n')\n",
        "all_instances = label_arcene[[x==n for x in label_arcene]]\n",
        "print(f'All intances considered: \\n {all_instances}, \\n Cardinality: {len(all_instances)} \\n')"
      ],
      "metadata": {
        "colab": {
          "base_uri": "https://localhost:8080/"
        },
        "id": "h8vK7WlezKlC",
        "outputId": "ff4653e2-9e72-44af-a415-496d4c40c981"
      },
      "execution_count": null,
      "outputs": [
        {
          "output_type": "stream",
          "name": "stdout",
          "text": [
            "Label of intances out of the radius: \n",
            " [-1 -1 -1 -1 -1  1 -1  1 -1 -1 -1  1 -1 -1 -1], \n",
            " Cardinality: 15 \n",
            "\n",
            "Label of intances out of the radius + annulus: \n",
            " [1 1 1], \n",
            " Cardinality: 3 \n",
            "\n",
            "All intances considered: \n",
            " [-1 -1 -1 -1 -1 -1 -1 -1 -1 -1 -1 -1 -1 -1 -1 -1 -1 -1 -1 -1 -1 -1 -1 -1\n",
            " -1 -1 -1 -1 -1 -1 -1 -1 -1 -1 -1 -1 -1 -1 -1 -1 -1 -1 -1 -1 -1 -1 -1 -1\n",
            " -1 -1 -1 -1 -1 -1 -1 -1], \n",
            " Cardinality: 56 \n",
            "\n"
          ]
        }
      ]
    },
    {
      "cell_type": "code",
      "source": [],
      "metadata": {
        "id": "KhlO1ImjzrXz"
      },
      "execution_count": null,
      "outputs": []
    }
  ]
}